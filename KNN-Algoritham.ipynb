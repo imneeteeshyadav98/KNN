{
 "cells": [
  {
   "cell_type": "markdown",
   "metadata": {},
   "source": [
    "## K-NN Algoritham "
   ]
  },
  {
   "cell_type": "markdown",
   "metadata": {},
   "source": [
    "### Apply Feature scaling concept and find the great acuracy use of feature scaling concept"
   ]
  },
  {
   "cell_type": "markdown",
   "metadata": {},
   "source": [
    "### Load the Librery"
   ]
  },
  {
   "cell_type": "code",
   "execution_count": 1,
   "metadata": {},
   "outputs": [],
   "source": [
    "import pandas as pd\n",
    "import numpy as np\n",
    "import seaborn as sns\n",
    "import matplotlib.pyplot as plt\n",
    "sns.set()"
   ]
  },
  {
   "cell_type": "markdown",
   "metadata": {},
   "source": [
    "### Load the Dataset"
   ]
  },
  {
   "cell_type": "code",
   "execution_count": 2,
   "metadata": {},
   "outputs": [],
   "source": [
    "dataset=pd.read_csv(\"Social_Network_Ads.csv\")"
   ]
  },
  {
   "cell_type": "markdown",
   "metadata": {},
   "source": [
    "### Extract top  five data"
   ]
  },
  {
   "cell_type": "code",
   "execution_count": 3,
   "metadata": {},
   "outputs": [
    {
     "data": {
      "text/html": [
       "<div>\n",
       "<style scoped>\n",
       "    .dataframe tbody tr th:only-of-type {\n",
       "        vertical-align: middle;\n",
       "    }\n",
       "\n",
       "    .dataframe tbody tr th {\n",
       "        vertical-align: top;\n",
       "    }\n",
       "\n",
       "    .dataframe thead th {\n",
       "        text-align: right;\n",
       "    }\n",
       "</style>\n",
       "<table border=\"1\" class=\"dataframe\">\n",
       "  <thead>\n",
       "    <tr style=\"text-align: right;\">\n",
       "      <th></th>\n",
       "      <th>Age</th>\n",
       "      <th>EstimatedSalary</th>\n",
       "      <th>Purchased</th>\n",
       "    </tr>\n",
       "  </thead>\n",
       "  <tbody>\n",
       "    <tr>\n",
       "      <td>0</td>\n",
       "      <td>19</td>\n",
       "      <td>19000</td>\n",
       "      <td>0</td>\n",
       "    </tr>\n",
       "    <tr>\n",
       "      <td>1</td>\n",
       "      <td>35</td>\n",
       "      <td>20000</td>\n",
       "      <td>0</td>\n",
       "    </tr>\n",
       "    <tr>\n",
       "      <td>2</td>\n",
       "      <td>26</td>\n",
       "      <td>43000</td>\n",
       "      <td>0</td>\n",
       "    </tr>\n",
       "    <tr>\n",
       "      <td>3</td>\n",
       "      <td>27</td>\n",
       "      <td>57000</td>\n",
       "      <td>0</td>\n",
       "    </tr>\n",
       "    <tr>\n",
       "      <td>4</td>\n",
       "      <td>19</td>\n",
       "      <td>76000</td>\n",
       "      <td>0</td>\n",
       "    </tr>\n",
       "  </tbody>\n",
       "</table>\n",
       "</div>"
      ],
      "text/plain": [
       "   Age  EstimatedSalary  Purchased\n",
       "0   19            19000          0\n",
       "1   35            20000          0\n",
       "2   26            43000          0\n",
       "3   27            57000          0\n",
       "4   19            76000          0"
      ]
     },
     "execution_count": 3,
     "metadata": {},
     "output_type": "execute_result"
    }
   ],
   "source": [
    "dataset.head()"
   ]
  },
  {
   "cell_type": "markdown",
   "metadata": {},
   "source": [
    "### Find the information of dataset"
   ]
  },
  {
   "cell_type": "code",
   "execution_count": 4,
   "metadata": {},
   "outputs": [
    {
     "name": "stdout",
     "output_type": "stream",
     "text": [
      "<class 'pandas.core.frame.DataFrame'>\n",
      "RangeIndex: 400 entries, 0 to 399\n",
      "Data columns (total 3 columns):\n",
      "Age                400 non-null int64\n",
      "EstimatedSalary    400 non-null int64\n",
      "Purchased          400 non-null int64\n",
      "dtypes: int64(3)\n",
      "memory usage: 9.5 KB\n"
     ]
    }
   ],
   "source": [
    "dataset.info()"
   ]
  },
  {
   "cell_type": "markdown",
   "metadata": {},
   "source": [
    "### Find the colunmns"
   ]
  },
  {
   "cell_type": "code",
   "execution_count": 5,
   "metadata": {},
   "outputs": [
    {
     "data": {
      "text/plain": [
       "Index(['Age', 'EstimatedSalary', 'Purchased'], dtype='object')"
      ]
     },
     "execution_count": 5,
     "metadata": {},
     "output_type": "execute_result"
    }
   ],
   "source": [
    "dataset.columns"
   ]
  },
  {
   "cell_type": "markdown",
   "metadata": {},
   "source": [
    "### Feature selection"
   ]
  },
  {
   "cell_type": "code",
   "execution_count": 6,
   "metadata": {},
   "outputs": [],
   "source": [
    "X=dataset[['Age', 'EstimatedSalary']]"
   ]
  },
  {
   "cell_type": "markdown",
   "metadata": {},
   "source": [
    "### Target / output"
   ]
  },
  {
   "cell_type": "code",
   "execution_count": 7,
   "metadata": {},
   "outputs": [],
   "source": [
    "y=dataset['Purchased']"
   ]
  },
  {
   "cell_type": "markdown",
   "metadata": {},
   "source": [
    "### Plot the graph age and EstimatedSaary Releted with Purchased"
   ]
  },
  {
   "cell_type": "code",
   "execution_count": 8,
   "metadata": {},
   "outputs": [
    {
     "data": {
      "text/plain": [
       "<matplotlib.axes._subplots.AxesSubplot at 0x7f80cb7d5290>"
      ]
     },
     "execution_count": 8,
     "metadata": {},
     "output_type": "execute_result"
    },
    {
     "data": {
      "image/png": "[encoded data removed]",
      "text/plain": [
       "<Figure size 432x288 with 1 Axes>"
      ]
     },
     "metadata": {
      "needs_background": "light"
     },
     "output_type": "display_data"
    }
   ],
   "source": [
    "sns.scatterplot(data=dataset,x='Age',y='EstimatedSalary',hue='Purchased')"
   ]
  },
  {
   "cell_type": "markdown",
   "metadata": {},
   "source": [
    "### Split the data into train and test"
   ]
  },
  {
   "cell_type": "code",
   "execution_count": 9,
   "metadata": {},
   "outputs": [],
   "source": [
    "from sklearn.model_selection import train_test_split"
   ]
  },
  {
   "cell_type": "code",
   "execution_count": 10,
   "metadata": {},
   "outputs": [],
   "source": [
    "X_train,X_test,y_train,y_test=train_test_split(X,y,test_size=.30,random_state=42)"
   ]
  },
  {
   "cell_type": "markdown",
   "metadata": {},
   "source": [
    "### Apply feature scaling concept only train data "
   ]
  },
  {
   "cell_type": "code",
   "execution_count": 11,
   "metadata": {},
   "outputs": [],
   "source": [
    "from sklearn.preprocessing import StandardScaler"
   ]
  },
  {
   "cell_type": "code",
   "execution_count": 12,
   "metadata": {},
   "outputs": [],
   "source": [
    "sc=StandardScaler()"
   ]
  },
  {
   "cell_type": "code",
   "execution_count": 13,
   "metadata": {},
   "outputs": [],
   "source": [
    "X_train_scale=sc.fit_transform(X_train)"
   ]
  },
  {
   "cell_type": "code",
   "execution_count": 14,
   "metadata": {},
   "outputs": [
    {
     "data": {
      "text/plain": [
       "array([[-0.84252154,  0.1301563 ],\n",
       "       [ 0.04175763,  0.2777019 ],\n",
       "       [ 0.72953032, -1.31579061],\n",
       "       [ 1.61380949,  1.10395728],\n",
       "       [ 0.82778356, -1.40431797],\n",
       "       [-1.43204099, -1.25677236],\n",
       "       [-0.05649561,  0.1301563 ],\n",
       "       [ 0.43477059, -0.16493491],\n",
       "       [-0.2530021 ,  0.01211982],\n",
       "       [ 1.31904976,  2.22530386],\n",
       "       [ 0.14001087,  0.74984783],\n",
       "       [-1.33378775,  0.54328399],\n",
       "       [ 2.00682245,  0.72033871],\n",
       "       [-1.23553451, -1.43382709],\n",
       "       [ 0.33651735, -0.34198963],\n",
       "       [-0.94077478,  0.54328399],\n",
       "       [ 0.43477059,  0.2777019 ],\n",
       "       [ 0.43477059,  1.10395728],\n",
       "       [ 0.82778356,  0.74984783],\n",
       "       [ 0.9260368 ,  1.25150288],\n",
       "       [-0.44950858, -1.25677236],\n",
       "       [-1.82505395, -1.34529973],\n",
       "       [ 1.12254328,  0.54328399],\n",
       "       [-0.64601506, -1.64039093],\n",
       "       [-0.7442683 ,  0.24819278],\n",
       "       [ 1.02429004,  2.07775825],\n",
       "       [-0.54776182,  1.36953936],\n",
       "       [-0.05649561,  0.01211982],\n",
       "       [-1.9233072 ,  0.45475663],\n",
       "       [ 0.43477059,  0.24819278],\n",
       "       [-1.03902802,  0.39573838],\n",
       "       [ 0.23826411, -0.16493491],\n",
       "       [ 1.90856921,  0.10064718],\n",
       "       [-1.13728127, -1.64039093],\n",
       "       [-1.13728127,  0.2777019 ],\n",
       "       [-0.84252154, -0.81413556],\n",
       "       [-0.44950858,  2.31383122],\n",
       "       [ 0.14001087, -0.84364468],\n",
       "       [ 1.61380949,  0.98592079],\n",
       "       [-0.15474885, -1.10922676],\n",
       "       [ 0.82778356, -1.13873588],\n",
       "       [ 0.23826411,  2.10726737],\n",
       "       [-0.05649561, -0.25346227],\n",
       "       [-0.84252154,  2.2843221 ],\n",
       "       [-0.05649561, -0.40100787],\n",
       "       [-0.2530021 , -0.60757171],\n",
       "       [ 0.43477059, -0.51904435],\n",
       "       [-0.2530021 , -0.96168116],\n",
       "       [ 0.33651735, -1.19775412],\n",
       "       [ 0.23826411,  0.04162894],\n",
       "       [-1.13728127, -1.64039093],\n",
       "       [-0.64601506, -0.07640754],\n",
       "       [-0.2530021 , -0.51904435],\n",
       "       [-0.2530021 , -1.34529973],\n",
       "       [-0.7442683 ,  0.54328399],\n",
       "       [ 0.33651735,  0.04162894],\n",
       "       [-0.94077478,  1.54659408],\n",
       "       [ 0.82778356,  0.33672014],\n",
       "       [-1.53029423, -0.22395315],\n",
       "       [ 0.72953032, -1.43382709],\n",
       "       [-0.7442683 , -0.63708083],\n",
       "       [-0.35125534, -1.34529973],\n",
       "       [ 0.23826411,  0.1301563 ],\n",
       "       [-0.54776182,  1.36953936],\n",
       "       [-1.43204099,  0.33672014],\n",
       "       [-1.13728127,  0.2777019 ],\n",
       "       [ 1.02429004,  1.78266705],\n",
       "       [ 2.10507569,  2.13677649],\n",
       "       [-0.2530021 , -0.46002611],\n",
       "       [-0.35125534, -0.81413556],\n",
       "       [ 0.14001087, -0.28297139],\n",
       "       [-1.03902802,  0.74984783],\n",
       "       [ 2.20332893,  0.36622926],\n",
       "       [-1.33378775, -0.46002611],\n",
       "       [ 2.00682245,  2.16628562],\n",
       "       [ 1.51555624,  0.98592079],\n",
       "       [-0.2530021 ,  0.24819278],\n",
       "       [-0.15474885,  0.83837519],\n",
       "       [ 1.90856921, -0.31248051],\n",
       "       [-0.05649561,  1.95972177],\n",
       "       [-0.44950858, -0.81413556],\n",
       "       [ 0.33651735,  0.01211982],\n",
       "       [ 1.417303  , -1.46333621],\n",
       "       [ 1.417303  ,  2.34334034],\n",
       "       [-0.05649561, -0.0173893 ],\n",
       "       [-1.13728127,  0.39573838],\n",
       "       [-1.13728127,  0.04162894],\n",
       "       [-1.13728127, -0.54855347],\n",
       "       [ 0.33651735, -0.31248051],\n",
       "       [-0.64601506, -0.13542579],\n",
       "       [-0.05649561,  2.16628562],\n",
       "       [ 0.04175763, -0.28297139],\n",
       "       [-0.64601506, -1.07971764],\n",
       "       [ 0.43477059,  0.1301563 ],\n",
       "       [ 0.82778356,  1.36953936],\n",
       "       [-0.15474885, -0.54855347],\n",
       "       [ 0.04175763,  0.01211982],\n",
       "       [ 1.12254328,  0.51377487],\n",
       "       [ 1.90856921, -1.10922676],\n",
       "       [ 1.02429004,  1.98923089],\n",
       "       [ 0.9260368 , -0.60757171],\n",
       "       [-0.44950858, -0.04689842],\n",
       "       [-0.05649561,  2.22530386],\n",
       "       [-1.72680071,  0.33672014],\n",
       "       [ 0.23826411, -0.69609908],\n",
       "       [-0.2530021 , -1.43382709],\n",
       "       [-1.72680071, -1.0206994 ],\n",
       "       [ 0.72953032, -0.75511732],\n",
       "       [-1.13728127, -0.81413556],\n",
       "       [ 2.00682245,  0.89739343],\n",
       "       [ 0.23826411, -0.40100787],\n",
       "       [ 0.04175763,  1.22199376],\n",
       "       [-0.05649561,  0.2777019 ],\n",
       "       [ 1.12254328, -1.25677236],\n",
       "       [-0.15474885,  0.1301563 ],\n",
       "       [ 0.33651735,  0.04162894],\n",
       "       [-0.2530021 , -0.31248051],\n",
       "       [ 0.53302383,  1.72364881],\n",
       "       [ 0.33651735,  0.48426575],\n",
       "       [ 0.04175763,  1.25150288],\n",
       "       [ 2.00682245, -1.40431797],\n",
       "       [-1.13728127, -1.13873588],\n",
       "       [-0.54776182, -1.55186357],\n",
       "       [ 0.33651735, -0.54855347],\n",
       "       [-0.64601506, -1.55186357],\n",
       "       [-0.2530021 ,  0.51377487],\n",
       "       [ 1.02429004, -1.05020852],\n",
       "       [-1.03902802,  0.54328399],\n",
       "       [-0.2530021 ,  0.77935695],\n",
       "       [ 0.43477059,  0.07113806],\n",
       "       [-1.62854747, -0.07640754],\n",
       "       [ 0.33651735,  0.04162894],\n",
       "       [-0.44950858, -0.31248051],\n",
       "       [ 0.14001087,  1.87119441],\n",
       "       [-0.94077478,  0.39573838],\n",
       "       [ 0.82778356,  0.51377487],\n",
       "       [-1.33378775, -0.37149875],\n",
       "       [-0.64601506,  1.39904848],\n",
       "       [ 1.22079652,  0.51377487],\n",
       "       [-1.72680071,  0.33672014],\n",
       "       [-0.54776182,  1.90070353],\n",
       "       [-1.72680071,  0.45475663],\n",
       "       [-0.2530021 , -1.28628149],\n",
       "       [-0.84252154, -0.81413556],\n",
       "       [-1.62854747,  0.51377487],\n",
       "       [-0.2530021 , -0.34198963],\n",
       "       [ 0.72953032, -1.13873588],\n",
       "       [ 2.20332893, -0.84364468],\n",
       "       [-0.2530021 ,  0.60230223],\n",
       "       [-0.2530021 , -0.78462644],\n",
       "       [-1.9233072 , -0.78462644],\n",
       "       [ 0.43477059,  2.31383122],\n",
       "       [ 0.72953032,  0.24819278],\n",
       "       [ 0.23826411, -0.31248051],\n",
       "       [-1.33378775, -1.40431797],\n",
       "       [-0.44950858, -0.57806259],\n",
       "       [ 0.43477059, -0.0173893 ],\n",
       "       [ 1.71206273,  1.75315793],\n",
       "       [ 1.22079652, -0.78462644],\n",
       "       [ 1.02429004,  1.4285576 ],\n",
       "       [-1.82505395,  0.15966542],\n",
       "       [ 0.33651735,  0.04162894],\n",
       "       [ 0.23826411,  0.01211982],\n",
       "       [-1.03902802,  0.51377487],\n",
       "       [-0.15474885,  1.63512145],\n",
       "       [-0.2530021 ,  0.1301563 ],\n",
       "       [-0.2530021 , -0.37149875],\n",
       "       [-0.35125534,  1.31052112],\n",
       "       [-0.2530021 ,  0.07113806],\n",
       "       [ 2.20332893,  1.10395728],\n",
       "       [-1.23553451,  0.48426575],\n",
       "       [-1.03902802, -0.48953523],\n",
       "       [-1.62854747, -1.61088181],\n",
       "       [-0.05649561,  0.10064718],\n",
       "       [-0.2530021 , -0.93217204],\n",
       "       [ 1.61380949, -0.0173893 ],\n",
       "       [ 0.9260368 , -1.19775412],\n",
       "       [ 0.04175763, -0.60757171],\n",
       "       [-0.2530021 ,  2.25481298],\n",
       "       [-0.2530021 ,  0.18917454],\n",
       "       [ 0.33651735,  0.24819278],\n",
       "       [-0.05649561, -1.10922676],\n",
       "       [ 2.20332893, -0.7256082 ],\n",
       "       [-0.94077478, -0.34198963],\n",
       "       [-1.43204099, -0.13542579],\n",
       "       [-1.43204099, -0.22395315],\n",
       "       [-0.7442683 , -1.58137269],\n",
       "       [-1.23553451, -1.10922676],\n",
       "       [ 2.10507569,  0.36622926],\n",
       "       [ 2.00682245, -0.96168116],\n",
       "       [-1.9233072 ,  0.33672014],\n",
       "       [ 0.82778356, -0.34198963],\n",
       "       [-1.03902802, -1.58137269],\n",
       "       [ 2.00682245, -0.69609908],\n",
       "       [ 1.02429004, -1.19775412],\n",
       "       [ 1.12254328, -0.16493491],\n",
       "       [ 1.22079652, -1.0206994 ],\n",
       "       [ 1.51555624,  0.04162894],\n",
       "       [ 0.23826411, -0.40100787],\n",
       "       [ 1.417303  ,  1.281012  ],\n",
       "       [ 2.10507569, -0.84364468],\n",
       "       [-0.15474885, -0.22395315],\n",
       "       [ 0.43477059,  0.98592079],\n",
       "       [-0.05649561, -0.54855347],\n",
       "       [ 1.02429004, -1.10922676],\n",
       "       [ 2.10507569, -1.22726324],\n",
       "       [-0.05649561,  0.24819278],\n",
       "       [ 0.23826411, -0.28297139],\n",
       "       [ 1.12254328,  0.10064718],\n",
       "       [-1.23553451,  0.57279311],\n",
       "       [-0.7442683 , -1.64039093],\n",
       "       [ 0.23826411,  0.21868366],\n",
       "       [-1.33378775,  0.39573838],\n",
       "       [ 0.04175763, -0.60757171],\n",
       "       [ 0.72953032,  1.78266705],\n",
       "       [-1.62854747,  0.04162894],\n",
       "       [-0.2530021 , -1.40431797],\n",
       "       [-0.2530021 , -1.49284533],\n",
       "       [-0.64601506,  0.54328399],\n",
       "       [-0.7442683 ,  0.2777019 ],\n",
       "       [ 0.9260368 , -0.69609908],\n",
       "       [-1.03902802,  0.57279311],\n",
       "       [-0.2530021 ,  0.04162894],\n",
       "       [-0.7442683 ,  1.34003024],\n",
       "       [ 0.14001087,  1.51708496],\n",
       "       [-0.84252154,  0.36622926],\n",
       "       [ 0.33651735, -0.22395315],\n",
       "       [ 1.02429004,  0.57279311],\n",
       "       [ 0.04175763, -0.34198963],\n",
       "       [-0.54776182, -1.55186357],\n",
       "       [ 0.14001087,  0.1301563 ],\n",
       "       [-1.13728127,  0.30721102],\n",
       "       [ 0.14001087,  1.04493904],\n",
       "       [-1.53029423, -0.46002611],\n",
       "       [-0.15474885,  1.39904848],\n",
       "       [ 2.20332893, -0.84364468],\n",
       "       [-0.94077478, -0.46002611],\n",
       "       [ 1.31904976,  1.87119441],\n",
       "       [ 1.12254328, -1.25677236],\n",
       "       [-0.15474885, -0.31248051],\n",
       "       [ 1.81031597,  0.98592079],\n",
       "       [-1.03902802, -0.37149875],\n",
       "       [-1.33378775, -1.13873588],\n",
       "       [-0.35125534,  0.04162894],\n",
       "       [-0.94077478, -1.13873588],\n",
       "       [ 1.22079652, -1.49284533],\n",
       "       [-0.44950858, -0.8731538 ],\n",
       "       [-0.84252154, -0.69609908],\n",
       "       [-1.53029423, -1.55186357],\n",
       "       [-0.7442683 ,  1.90070353],\n",
       "       [ 0.9260368 ,  1.01542992],\n",
       "       [ 0.82778356,  0.24819278],\n",
       "       [ 1.02429004,  1.87119441],\n",
       "       [ 0.9260368 , -0.63708083],\n",
       "       [ 1.12254328,  2.07775825],\n",
       "       [-0.54776182,  0.86788431],\n",
       "       [ 0.04175763,  0.01211982],\n",
       "       [-1.82505395, -1.31579061],\n",
       "       [-0.05649561,  0.18917454],\n",
       "       [ 0.9260368 , -0.57806259],\n",
       "       [ 0.23826411, -0.40100787],\n",
       "       [-0.15474885,  1.60561233],\n",
       "       [-1.72680071,  0.10064718],\n",
       "       [-0.64601506, -0.37149875],\n",
       "       [ 0.33651735, -0.75511732],\n",
       "       [ 0.43477059, -0.48953523],\n",
       "       [-0.94077478, -0.99119028],\n",
       "       [ 0.14001087,  0.07113806],\n",
       "       [-0.94077478,  0.4252475 ],\n",
       "       [ 0.04175763, -0.57806259],\n",
       "       [ 0.9260368 , -0.81413556],\n",
       "       [-0.05649561,  0.04162894],\n",
       "       [ 1.12254328, -1.0206994 ],\n",
       "       [ 0.72953032, -1.43382709],\n",
       "       [-0.2530021 ,  0.04162894],\n",
       "       [-1.33378775, -1.28628149],\n",
       "       [-1.13728127, -1.05020852],\n",
       "       [ 0.53302383,  1.84168529],\n",
       "       [ 0.14001087,  0.18917454],\n",
       "       [-0.54776182,  0.45475663]])"
      ]
     },
     "execution_count": 14,
     "metadata": {},
     "output_type": "execute_result"
    }
   ],
   "source": [
    "X_train_scale"
   ]
  },
  {
   "cell_type": "code",
   "execution_count": 15,
   "metadata": {},
   "outputs": [],
   "source": [
    "X_test_scale=sc.fit_transform(X_test)"
   ]
  },
  {
   "cell_type": "markdown",
   "metadata": {},
   "source": [
    "### Load the Neighbors family and import Kneighborsclassifier"
   ]
  },
  {
   "cell_type": "code",
   "execution_count": 16,
   "metadata": {},
   "outputs": [],
   "source": [
    "from sklearn.neighbors import KNeighborsClassifier"
   ]
  },
  {
   "cell_type": "code",
   "execution_count": 17,
   "metadata": {},
   "outputs": [],
   "source": [
    "model=KNeighborsClassifier(n_neighbors=5)"
   ]
  },
  {
   "cell_type": "markdown",
   "metadata": {},
   "source": [
    "### Fit the model"
   ]
  },
  {
   "cell_type": "code",
   "execution_count": 18,
   "metadata": {},
   "outputs": [
    {
     "data": {
      "text/plain": [
       "KNeighborsClassifier(algorithm='auto', leaf_size=30, metric='minkowski',\n",
       "                     metric_params=None, n_jobs=None, n_neighbors=5, p=2,\n",
       "                     weights='uniform')"
      ]
     },
     "execution_count": 18,
     "metadata": {},
     "output_type": "execute_result"
    }
   ],
   "source": [
    "model.fit(X_train_scale,y_train)"
   ]
  },
  {
   "cell_type": "markdown",
   "metadata": {},
   "source": [
    "### Predict the model"
   ]
  },
  {
   "cell_type": "code",
   "execution_count": 19,
   "metadata": {},
   "outputs": [],
   "source": [
    "y_pred=model.predict(X_test_scale)"
   ]
  },
  {
   "cell_type": "code",
   "execution_count": 20,
   "metadata": {},
   "outputs": [
    {
     "data": {
      "text/plain": [
       "array([1, 1, 0, 1, 0, 0, 1, 0, 0, 0, 0, 1, 0, 0, 0, 1, 1, 0, 0, 1, 0, 0,\n",
       "       1, 1, 0, 1, 0, 0, 1, 0, 1, 0, 1, 0, 1, 0, 0, 0, 0, 0, 1, 0, 0, 1,\n",
       "       0, 1, 0, 0, 1, 0, 0, 1, 0, 0, 0, 0, 1, 1, 0, 0, 0, 0, 1, 0, 0, 1,\n",
       "       1, 1, 0, 1, 1, 0, 0, 0, 1, 0, 1, 1, 0, 0, 0, 1, 1, 0, 1, 0, 0, 0,\n",
       "       0, 0, 1, 0, 0, 0, 0, 0, 1, 0, 1, 1, 1, 0, 1, 0, 0, 1, 1, 1, 1, 0,\n",
       "       0, 0, 1, 1, 1, 0, 0, 1, 0, 0])"
      ]
     },
     "execution_count": 20,
     "metadata": {},
     "output_type": "execute_result"
    }
   ],
   "source": [
    "y_pred"
   ]
  },
  {
   "cell_type": "markdown",
   "metadata": {},
   "source": [
    "### Show the y test resault"
   ]
  },
  {
   "cell_type": "code",
   "execution_count": 21,
   "metadata": {},
   "outputs": [
    {
     "data": {
      "text/plain": [
       "209    0\n",
       "280    1\n",
       "33     0\n",
       "210    1\n",
       "93     0\n",
       "      ..\n",
       "60     0\n",
       "79     0\n",
       "285    1\n",
       "305    0\n",
       "281    0\n",
       "Name: Purchased, Length: 120, dtype: int64"
      ]
     },
     "execution_count": 21,
     "metadata": {},
     "output_type": "execute_result"
    }
   ],
   "source": [
    "y_test"
   ]
  },
  {
   "cell_type": "code",
   "execution_count": 22,
   "metadata": {},
   "outputs": [],
   "source": [
    "from sklearn.metrics import confusion_matrix"
   ]
  },
  {
   "cell_type": "code",
   "execution_count": 23,
   "metadata": {},
   "outputs": [
    {
     "data": {
      "text/plain": [
       "array([[69,  4],\n",
       "       [ 3, 44]])"
      ]
     },
     "execution_count": 23,
     "metadata": {},
     "output_type": "execute_result"
    }
   ],
   "source": [
    "confusion_matrix(y_test, y_pred)"
   ]
  },
  {
   "cell_type": "code",
   "execution_count": 24,
   "metadata": {},
   "outputs": [],
   "source": [
    "from sklearn.metrics import accuracy_score"
   ]
  },
  {
   "cell_type": "code",
   "execution_count": 25,
   "metadata": {},
   "outputs": [
    {
     "data": {
      "text/plain": [
       "0.9416666666666667"
      ]
     },
     "execution_count": 25,
     "metadata": {},
     "output_type": "execute_result"
    }
   ],
   "source": [
    "accuracy_score(y_test, y_pred)"
   ]
  },
  {
   "cell_type": "markdown",
   "metadata": {},
   "source": [
    "### Find error rate using 1-50 neighbors qnd find the mean "
   ]
  },
  {
   "cell_type": "code",
   "execution_count": 26,
   "metadata": {},
   "outputs": [],
   "source": [
    "error_rate=[]\n",
    "for i in range(1,50):\n",
    "    model=KNeighborsClassifier(n_neighbors=i)\n",
    "    model.fit(X_train_scale,y_train)\n",
    "    y_pred=model.predict(X_test_scale)\n",
    "    error_rate.append(np.mean(y_test != y_pred))"
   ]
  },
  {
   "cell_type": "markdown",
   "metadata": {},
   "source": [
    "### Plot the error graph"
   ]
  },
  {
   "cell_type": "code",
   "execution_count": 27,
   "metadata": {},
   "outputs": [
    {
     "data": {
      "text/plain": [
       "Text(0, 0.5, 'Error')"
      ]
     },
     "execution_count": 27,
     "metadata": {},
     "output_type": "execute_result"
    },
    {
     "data": {
      "image/png": "[encoded data removed]",
      "text/plain": [
       "<Figure size 432x288 with 1 Axes>"
      ]
     },
     "metadata": {
      "needs_background": "light"
     },
     "output_type": "display_data"
    }
   ],
   "source": [
    "plt.plot(range(1,50),error_rate,marker='o')\n",
    "plt.xlabel('k')\n",
    "plt.ylabel('Error')"
   ]
  },
  {
   "cell_type": "code",
   "execution_count": 28,
   "metadata": {},
   "outputs": [],
   "source": [
    "from sklearn.metrics import confusion_matrix"
   ]
  },
  {
   "cell_type": "code",
   "execution_count": 29,
   "metadata": {},
   "outputs": [
    {
     "data": {
      "text/plain": [
       "array([[71,  2],\n",
       "       [15, 32]])"
      ]
     },
     "execution_count": 29,
     "metadata": {},
     "output_type": "execute_result"
    }
   ],
   "source": [
    "confusion_matrix(y_test, y_pred)"
   ]
  },
  {
   "cell_type": "code",
   "execution_count": 30,
   "metadata": {},
   "outputs": [],
   "source": [
    "from sklearn.metrics import accuracy_score"
   ]
  },
  {
   "cell_type": "code",
   "execution_count": 31,
   "metadata": {},
   "outputs": [
    {
     "data": {
      "text/plain": [
       "0.8583333333333333"
      ]
     },
     "execution_count": 31,
     "metadata": {},
     "output_type": "execute_result"
    }
   ],
   "source": [
    "accuracy_score(y_test, y_pred)"
   ]
  },
  {
   "cell_type": "code",
   "execution_count": null,
   "metadata": {},
   "outputs": [],
   "source": []
  }
 ],
 "metadata": {
  "kernelspec": {
   "display_name": "Python 3",
   "language": "python",
   "name": "python3"
  },
  "language_info": {
   "codemirror_mode": {
    "name": "ipython",
    "version": 3
   },
   "file_extension": ".py",
   "mimetype": "text/x-python",
   "name": "python",
   "nbconvert_exporter": "python",
   "pygments_lexer": "ipython3",
   "version": "3.7.4"
  }
 },
 "nbformat": 4,
 "nbformat_minor": 2
}
